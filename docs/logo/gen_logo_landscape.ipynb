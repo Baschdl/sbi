{
 "cells": [
  {
   "cell_type": "markdown",
   "metadata": {},
   "source": [
    "# `sbi`"
   ]
  },
  {
   "cell_type": "markdown",
   "metadata": {},
   "source": [
    "Matplotlib v3.2.2 required"
   ]
  },
  {
   "cell_type": "code",
   "execution_count": null,
   "metadata": {},
   "outputs": [],
   "source": [
    "# import cma\n",
    "import matplotlib as mpl\n",
    "import matplotlib.pyplot as plt\n",
    "import numpy as np\n",
    "\n",
    "from matplotlib import cm\n",
    "from matplotlib.backends.backend_pdf import PdfPages\n",
    "from matplotlib.colors import LightSource\n",
    "from matplotlib.ticker import LinearLocator, FormatStrFormatter\n",
    "from mpl_toolkits.mplot3d import Axes3D\n",
    "\n",
    "%matplotlib inline"
   ]
  },
  {
   "cell_type": "code",
   "execution_count": null,
   "metadata": {},
   "outputs": [],
   "source": [
    "def fun_3d(X,Y):\n",
    "    A =  0*2*np.exp(-(2*(X-2)**2+(Y+4)**2))\n",
    "    B =  5*np.exp(-(2*(X+4)**2+(Y+3)**2))\n",
    "    C = np.exp(-(X**2+Y**2)/120)\n",
    "    Z = C*(np.sin((X+2*Y)/1.5)*np.exp(0.2*X) + np.cos((2*X+Y)/2.5)*np.exp(0.2*Y) + A + B + 8)\n",
    "    return Z"
   ]
  },
  {
   "cell_type": "code",
   "execution_count": null,
   "metadata": {},
   "outputs": [],
   "source": [
    "fig = plt.figure(figsize=(10,10),frameon=False)\n",
    "ax = fig.gca(projection='3d')\n",
    "\n",
    "# data\n",
    "X = np.arange(-12, 14, 0.1)\n",
    "Y = np.arange(-15, 8, 0.1)\n",
    "X, Y = np.meshgrid(X, Y)\n",
    "Z = fun_3d(X,Y)\n",
    "\n",
    "# plotting\n",
    "ls = LightSource(azdeg=180, altdeg=220, hsv_min_val=0, hsv_max_val=1, hsv_min_sat=1, hsv_max_sat=0)\n",
    "rgb = ls.shade(Z, cmap=cm.Blues)\n",
    "\n",
    "_ = ax.plot_surface(X, Y, Z, rstride=2, cstride=2, cmap=cm.Blues, linewidth=0, alpha=1.0, facecolors=rgb)\n",
    "\n",
    "ax.set_xlim(np.array([-3,6]))\n",
    "ax.set_ylim(np.array([-5,3]))\n",
    "\n",
    "# remove axes\n",
    "plt.axis('off')\n",
    "\n",
    "ax.view_init(25, 300) # 300\n",
    "\n",
    "# plt.savefig(\"elife_striking9.svg\")\n",
    "plt.show()"
   ]
  },
  {
   "cell_type": "code",
   "execution_count": null,
   "metadata": {},
   "outputs": [],
   "source": []
  }
 ],
 "metadata": {
  "kernelspec": {
   "display_name": "Python 3",
   "language": "python",
   "name": "python3"
  },
  "language_info": {
   "codemirror_mode": {
    "name": "ipython",
    "version": 3
   },
   "file_extension": ".py",
   "mimetype": "text/x-python",
   "name": "python",
   "nbconvert_exporter": "python",
   "pygments_lexer": "ipython3",
   "version": "3.9.5"
  }
 },
 "nbformat": 4,
 "nbformat_minor": 4
}
